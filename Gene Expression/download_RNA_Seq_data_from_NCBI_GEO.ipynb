{
 "cells": [
  {
   "cell_type": "markdown",
   "metadata": {},
   "source": [
    "### Methods of Measuring Gene Expression\n",
    "\n",
    "- DNA Microarray: DNA-DNA hybridization. The mRNA sample is reverse transcribed to complementary DNA. The DNA is labelled with fluorescent tags. This strand is hybridized with the complementary DNA of the gene(to be measured) on the probe. The probe is washed off to remove unhybridized strands. The intensity of the fluorescent tag shows level of gene expression. This can be used to mesaure gene expression of specific samples or differential expression between samples\n",
    "\n",
    "- RNA-SEQ: mRNA are reverse transcribed to complementary DNA, the complementary DNA are broken down into fragments and fed to the DNA sequencer, the sequencer gives out reads that have been mapped to the reference genome. Based on the number of reads mapped to the reference genome, a Gene Quantification Matrix is generated. Normalisation can be performed on the matrix to work with it."
   ]
  },
  {
   "cell_type": "markdown",
   "metadata": {},
   "source": [
    "#### The NCBI Site\n",
    "\n",
    "##### GEO(Gene Expression Omnibus) Datasets\n",
    "Accessing GEO data requires the use of:\n",
    "- Accession ID(it's a unique ID): We'd be working with the ID \"GSE183947\" which is associated with a breast cancer dataset\n",
    "- Keyword \n",
    "\n",
    "It is important to know the kind of nomalization that was performed on a dataset as it affects the conclusion drawn from it."
   ]
  },
  {
   "cell_type": "code",
   "execution_count": null,
   "metadata": {
    "vscode": {
     "languageId": "plaintext"
    }
   },
   "outputs": [],
   "source": []
  },
  {
   "cell_type": "markdown",
   "metadata": {},
   "source": []
  }
 ],
 "metadata": {
  "language_info": {
   "name": "python"
  }
 },
 "nbformat": 4,
 "nbformat_minor": 2
}
